{
  "nbformat": 4,
  "nbformat_minor": 0,
  "metadata": {
    "colab": {
      "provenance": [],
      "authorship_tag": "ABX9TyNCjrlHLI6LT9NM7VEeGKG/",
      "include_colab_link": true
    },
    "kernelspec": {
      "name": "python3",
      "display_name": "Python 3"
    },
    "language_info": {
      "name": "python"
    }
  },
  "cells": [
    {
      "cell_type": "markdown",
      "metadata": {
        "id": "view-in-github",
        "colab_type": "text"
      },
      "source": [
        "<a href=\"https://colab.research.google.com/github/yhz0/xivdrummer/blob/main/xivdrummer.ipynb\" target=\"_parent\"><img src=\"https://colab.research.google.com/assets/colab-badge.svg\" alt=\"Open In Colab\"/></a>"
      ]
    },
    {
      "cell_type": "markdown",
      "source": [
        "# XIVDrummer\n",
        "\n",
        "Run the cell below to start the session on Google Colab."
      ],
      "metadata": {
        "id": "bgWwbj923Dps"
      }
    },
    {
      "cell_type": "code",
      "source": [
        "# Requirements, run once\n",
        "%pip install mido\n",
        "!git clone https://github.com/yhz0/xivdrummer\n",
        "%cd xivdrummer\n",
        "from xivdrummer import transform_midi, display_channels"
      ],
      "metadata": {
        "id": "auM6tzpZ4gYx"
      },
      "execution_count": null,
      "outputs": []
    },
    {
      "cell_type": "markdown",
      "source": [
        "## Step 1: Upload MIDI input file\n",
        "\n",
        "Run the cell below and use the widgets to upload your midi input file to the runtime."
      ],
      "metadata": {
        "id": "Mno99Tld3mt_"
      }
    },
    {
      "cell_type": "code",
      "source": [
        "from google.colab import files\n",
        "\n",
        "uploaded = files.upload()\n",
        "\n",
        "for fn in uploaded.keys():\n",
        "  print('User uploaded file \"{name}\" with length {length} bytes'.format(\n",
        "      name=fn, length=len(uploaded[fn])))"
      ],
      "metadata": {
        "id": "W3r6-Fyr5wTB"
      },
      "execution_count": null,
      "outputs": []
    },
    {
      "cell_type": "markdown",
      "source": [
        "## Step 2: Choose the track number and channel filter\n",
        "\n",
        "Run the cell below to display the tracks and channel layout of the input midi file.\n",
        "\n",
        "### About Track number\n",
        "\n",
        "Adjust the track number to choose the track containing the drum set you wish to parse. If you only have one track in your midi file, the track number should be 0. If you see a dedicated track for the drumset, set `track_num` to that number and you are good to go. Leave `channel_filter` as `None`.\n",
        "\n",
        "### About channel filter\n",
        "\n",
        "Note if you have multiple instruments in the midi file but you only see one track, it means that the drum tracks are stored inside a channel. In this case, set `channel_filter` to the number you see in the above. __Drum tracks are usually on the reserved channel you should fill in 9 or 10__, depending on what you see in the output below. (In general MIDI specifications, the reserved channel numbers are 10/11.)"
      ],
      "metadata": {
        "id": "EdbMIuif7e31"
      }
    },
    {
      "cell_type": "code",
      "source": [
        "input_file = list(uploaded.keys())[0]\n",
        "output_file = \"output.mid\"\n",
        "config_file = \"config.json\"\n",
        "display_channels(input_file)"
      ],
      "metadata": {
        "colab": {
          "base_uri": "https://localhost:8080/"
        },
        "id": "mAsmfHWu7E0s",
        "outputId": "1f5205a1-af41-4213-f325-49bb5537bc3d"
      },
      "execution_count": null,
      "outputs": [
        {
          "output_type": "stream",
          "name": "stdout",
          "text": [
            "Track 0: Drumset\n",
            "Available channels:  {9}\n"
          ]
        }
      ]
    },
    {
      "cell_type": "code",
      "source": [
        "# ========================\n",
        "# OPTIONS:\n",
        "# EDIT THIS CELL AS NEEDED\n",
        "# ========================\n",
        "track_num = 0\n",
        "channel_filter = None"
      ],
      "metadata": {
        "id": "eIOW5mC39GNz"
      },
      "execution_count": null,
      "outputs": []
    },
    {
      "cell_type": "markdown",
      "source": [
        "## Step 3: Run program and download the processed file."
      ],
      "metadata": {
        "id": "qfIwweiL9bRI"
      }
    },
    {
      "cell_type": "code",
      "source": [
        "transform_midi(input_file, output_file, config_file, track_num, channel_filter)\n",
        "files.download('output.mid')"
      ],
      "metadata": {
        "id": "RtzcjUrW9WlE"
      },
      "execution_count": null,
      "outputs": []
    },
    {
      "cell_type": "code",
      "source": [],
      "metadata": {
        "id": "B-ApVHZx9snq"
      },
      "execution_count": null,
      "outputs": []
    }
  ]
}